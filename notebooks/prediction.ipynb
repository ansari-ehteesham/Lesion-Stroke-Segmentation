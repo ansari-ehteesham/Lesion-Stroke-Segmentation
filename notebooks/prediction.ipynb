{
 "cells": [
  {
   "cell_type": "code",
   "execution_count": 1,
   "metadata": {},
   "outputs": [],
   "source": [
    "import os\n",
    "os.chdir(\"../\")"
   ]
  },
  {
   "cell_type": "code",
   "execution_count": 2,
   "metadata": {},
   "outputs": [
    {
     "data": {
      "text/plain": [
       "'d:\\\\Advanced Project\\\\Lesion-Stroke-Segmentation'"
      ]
     },
     "execution_count": 2,
     "metadata": {},
     "output_type": "execute_result"
    }
   ],
   "source": [
    "%pwd"
   ]
  },
  {
   "cell_type": "code",
   "execution_count": 4,
   "metadata": {},
   "outputs": [],
   "source": [
    "from dataclasses import dataclass\n",
    "from pathlib import Path"
   ]
  },
  {
   "cell_type": "code",
   "execution_count": 5,
   "metadata": {},
   "outputs": [],
   "source": [
    "@dataclass(frozen=True)\n",
    "class PredictionEntity:\n",
    "    model: Path"
   ]
  },
  {
   "cell_type": "code",
   "execution_count": 6,
   "metadata": {},
   "outputs": [],
   "source": [
    "from lesionSeg.constant import *\n",
    "from lesionSeg.Utils.common import read_yaml, create_directory"
   ]
  },
  {
   "cell_type": "code",
   "execution_count": 21,
   "metadata": {},
   "outputs": [],
   "source": [
    "class ConfigurationManagers:\n",
    "    def __init__(self, params=PARAMS_FILE_PATH, config=CONFIG_FILE_PATH):\n",
    "        self.params = read_yaml(params)\n",
    "        self.config = read_yaml(config)\n",
    "\n",
    "        create_directory([self.config.artifact_root])\n",
    "\n",
    "    def prediction_config(self):\n",
    "        config = self.config.prediction\n",
    "\n",
    "        pred_config = PredictionEntity(\n",
    "            model=config.base_model\n",
    "        )\n",
    "\n",
    "        return pred_config"
   ]
  },
  {
   "cell_type": "code",
   "execution_count": null,
   "metadata": {},
   "outputs": [],
   "source": [
    "from lesionSeg.Component.data_preprocessing import DataPreprocessing\n",
    "from lesionSeg.models.loss import focal_tversky_loss\n",
    "from lesionSeg.models.metrices import dice_coff\n",
    "from lesionSeg.Config.configuration import ConfigurationManager\n",
    "import numpy as np\n",
    "from scipy import ndimage\n",
    "import tensorflow as tf\n",
    "import cv2"
   ]
  },
  {
   "cell_type": "code",
   "execution_count": 43,
   "metadata": {},
   "outputs": [],
   "source": [
    "class Prediction:\n",
    "    def __init__(self, config: PredictionEntity):\n",
    "        self.config = config\n",
    "        config_man = ConfigurationManager()\n",
    "        preprocess_config = config_man.data_preprocessing_config()\n",
    "\n",
    "        self.pre_process_config = DataPreprocessing(config=preprocess_config)\n",
    "\n",
    "    def img_preprocess(self, image):\n",
    "        # resize the image\n",
    "        if image.ndim < 3:\n",
    "            image = cv2.cvtColor(image, cv2.COLOR_BGR2RGB)\n",
    "        height_factor, width_factor = self.pre_process_config.calculate_resize_factors(image)\n",
    "        resized_image = ndimage.zoom(image, (width_factor, height_factor, 1), order=1)\n",
    "        img = np.expand_dims(resized_image, axis=0)\n",
    "\n",
    "        return img\n",
    "\n",
    "    def model_prediction(self, image):\n",
    "        # load model\n",
    "        model_dir = self.config.model\n",
    "        model = tf.keras.models.load_model(model_dir, \n",
    "                                           custom_objects={\n",
    "                        'focal_tversky_loss': focal_tversky_loss,\n",
    "                        'dice_coff': dice_coff,\n",
    "                        'iou':tf.keras.metrics.IoU,\n",
    "                        'precision':tf.keras.metrics.Precision,\n",
    "                        'recall':tf.keras.metrics.Recall\n",
    "                    })\n",
    "        pre_process_img = self.img_preprocess(image=image)\n",
    "        pred = model.predict(pre_process_img)\n",
    "        pred_mask = (pred > 0.5).astype(np.uint8)\n",
    "\n",
    "        return pred_mask[0]"
   ]
  },
  {
   "cell_type": "code",
   "execution_count": 53,
   "metadata": {},
   "outputs": [
    {
     "name": "stderr",
     "output_type": "stream",
     "text": [
      "<>:2: SyntaxWarning: invalid escape sequence '\\d'\n",
      "<>:2: SyntaxWarning: invalid escape sequence '\\d'\n",
      "C:\\Users\\ehtes\\AppData\\Local\\Temp\\ipykernel_3076\\2518530974.py:2: SyntaxWarning: invalid escape sequence '\\d'\n",
      "  root_dir = \"artifact\\data_preprocessed\\Training\\input\"\n"
     ]
    }
   ],
   "source": [
    "img_name = \"r001s002_60.png\"\n",
    "root_dir = \"artifact\\data_preprocessed\\Training\\input\"\n",
    "img = cv2.imread(os.path.join(root_dir, img_name))"
   ]
  },
  {
   "cell_type": "code",
   "execution_count": 54,
   "metadata": {},
   "outputs": [
    {
     "data": {
      "text/plain": [
       "(128, 128, 3)"
      ]
     },
     "execution_count": 54,
     "metadata": {},
     "output_type": "execute_result"
    }
   ],
   "source": [
    "img.shape"
   ]
  },
  {
   "cell_type": "code",
   "execution_count": 55,
   "metadata": {},
   "outputs": [
    {
     "name": "stdout",
     "output_type": "stream",
     "text": [
      "[2025-02-23 23:07:12,193]: INFO: common : Read YAML File: params.yaml\n",
      "[2025-02-23 23:07:12,199]: INFO: common : Read YAML File: config\\config.yaml\n",
      "[2025-02-23 23:07:12,201]: INFO: common : Directory has been Created: artifact\n",
      "[2025-02-23 23:07:12,203]: INFO: common : Read YAML File: params.yaml\n",
      "[2025-02-23 23:07:12,206]: INFO: common : Read YAML File: config\\config.yaml\n",
      "[2025-02-23 23:07:12,210]: INFO: common : Directory has been Created: artifact\n",
      "[2025-02-23 23:07:12,212]: INFO: common : Directory has been Created: artifact\\data_preprocessed\n",
      "[2025-02-23 23:07:12,213]: INFO: common : Directory has been Created: artifact\\data_preprocessed\\Training\\input\n",
      "[2025-02-23 23:07:12,215]: INFO: common : Directory has been Created: artifact\\data_preprocessed\\Training\\output\n",
      "[2025-02-23 23:07:12,215]: INFO: common : Directory has been Created: artifact\\data_preprocessed\\Testing\\input\n",
      "\u001b[1m1/1\u001b[0m \u001b[32m━━━━━━━━━━━━━━━━━━━━\u001b[0m\u001b[37m\u001b[0m \u001b[1m1s\u001b[0m 716ms/step\n"
     ]
    }
   ],
   "source": [
    "try:\n",
    "    config = ConfigurationManagers()\n",
    "    pred_config = config.prediction_config()\n",
    "    prediction = Prediction(config = pred_config)\n",
    "    result = prediction.model_prediction(img)\n",
    "except Exception as e:\n",
    "    raise e"
   ]
  },
  {
   "cell_type": "code",
   "execution_count": 56,
   "metadata": {},
   "outputs": [
    {
     "data": {
      "text/plain": [
       "<matplotlib.image.AxesImage at 0x20b4bcc8a70>"
      ]
     },
     "execution_count": 56,
     "metadata": {},
     "output_type": "execute_result"
    },
    {
     "data": {
      "image/png": "[encoded data removed]",
      "text/plain": [
       "<Figure size 640x480 with 1 Axes>"
      ]
     },
     "metadata": {},
     "output_type": "display_data"
    }
   ],
   "source": [
    "import matplotlib.pyplot as plt\n",
    "\n",
    "plt.imshow(result, cmap='grey')"
   ]
  },
  {
   "cell_type": "code",
   "execution_count": null,
   "metadata": {},
   "outputs": [],
   "source": []
  }
 ],
 "metadata": {
  "kernelspec": {
   "display_name": "env",
   "language": "python",
   "name": "python3"
  },
  "language_info": {
   "codemirror_mode": {
    "name": "ipython",
    "version": 3
   },
   "file_extension": ".py",
   "mimetype": "text/x-python",
   "name": "python",
   "nbconvert_exporter": "python",
   "pygments_lexer": "ipython3",
   "version": "3.12.4"
  }
 },
 "nbformat": 4,
 "nbformat_minor": 2
}
