{
 "cells": [
  {
   "cell_type": "code",
   "execution_count": 3,
   "metadata": {},
   "outputs": [],
   "source": [
    "import os"
   ]
  },
  {
   "cell_type": "code",
   "execution_count": null,
   "metadata": {},
   "outputs": [],
   "source": [
    "%pwd"
   ]
  },
  {
   "cell_type": "code",
   "execution_count": 5,
   "metadata": {},
   "outputs": [],
   "source": [
    "os.chdir(\"../\")"
   ]
  },
  {
   "cell_type": "code",
   "execution_count": null,
   "metadata": {},
   "outputs": [],
   "source": [
    "%pwd"
   ]
  },
  {
   "cell_type": "markdown",
   "metadata": {},
   "source": [
    "# Entity"
   ]
  },
  {
   "cell_type": "code",
   "execution_count": 7,
   "metadata": {},
   "outputs": [],
   "source": [
    "from dataclasses import dataclass\n",
    "from pathlib import Path"
   ]
  },
  {
   "cell_type": "code",
   "execution_count": 8,
   "metadata": {},
   "outputs": [],
   "source": [
    "@dataclass(frozen=True)\n",
    "class DataIngestionEntity:\n",
    "    encrypted_dataset: Path\n",
    "    zip_dataset: Path\n",
    "    unzip_dir: Path\n",
    "    password: str"
   ]
  },
  {
   "cell_type": "code",
   "execution_count": 9,
   "metadata": {},
   "outputs": [],
   "source": [
    "from pathlib import Path\n",
    "from lesionSeg.constant import *\n",
    "from lesionSeg.Utils.common import read_yaml, create_directory"
   ]
  },
  {
   "cell_type": "code",
   "execution_count": 10,
   "metadata": {},
   "outputs": [],
   "source": [
    "class ConfiguratioManager:\n",
    "    def __init__(self, parmas_file = PARAMS_FILE_PATH, config_file = CONFIG_FILE_PATH):\n",
    "        self.parmas = read_yaml(parmas_file)\n",
    "        self.config = read_yaml(config_file)\n",
    "\n",
    "        create_directory([self.config.artifact_root])\n",
    "\n",
    "    def data_ingestion_config(self) -> DataIngestionEntity:\n",
    "        config = self.config.data_ingestion\n",
    "        secret = read_yaml(Path(config.secret_dir))\n",
    "\n",
    "        data_ingestion = DataIngestionEntity(\n",
    "            encrypted_dataset = Path(config.encrypted_dataset),\n",
    "            zip_dataset = Path(config.zip_dataset),\n",
    "            unzip_dir = Path(config.unzip_dir),\n",
    "            password = secret.dataset_password,\n",
    "        )\n",
    "\n",
    "        return data_ingestion\n"
   ]
  },
  {
   "cell_type": "code",
   "execution_count": 11,
   "metadata": {},
   "outputs": [],
   "source": [
    "import shutil\n",
    "import sys\n",
    "import tarfile\n",
    "from lesionSeg.Exception.exception import CustomeException\n",
    "from lesionSeg.logging import logger\n",
    "import subprocess"
   ]
  },
  {
   "cell_type": "code",
   "execution_count": 14,
   "metadata": {},
   "outputs": [],
   "source": [
    "class DataIngestion:\n",
    "    def __init__(self, config: DataIngestionEntity):\n",
    "        self.config = config\n",
    "        \n",
    "    def rename_folder(self, unzip_dir):\n",
    "        for file in os.listdir(unzip_dir):   \n",
    "            if \"ATLAS\" in file:\n",
    "                os.rename(f\"{unzip_dir}/{file}\", f\"{unzip_dir}/data_ingestion\")\n",
    "                logger.info(f\"File Name Changed from {file} to data_ingestion\")\n",
    "                break\n",
    "        \n",
    "\n",
    "    def decrypt_dataset(self, unzip_dir, zip_file):\n",
    "        file_name = self.config.encrypted_dataset\n",
    "        try:\n",
    "            if not shutil.which('openssl'):\n",
    "                message = \"OpenSSL is not Installed. Please Installed OpenSSL\"\n",
    "                raise ModuleNotFoundError(message)\n",
    "            else:\n",
    "                password = self.config.password\n",
    "                cmd = [\n",
    "                    \"openssl\",\n",
    "                    \"enc\",            \n",
    "                    \"-aes-256-cbc\",\n",
    "                    \"-md\", \"sha256\",\n",
    "                    \"-d\",             \n",
    "                    \"-a\",             \n",
    "                    \"-in\", file_name,\n",
    "                    \"-out\", zip_file,\n",
    "                    \"-pass\", f\"pass:{password}\"\n",
    "                ]\n",
    "\n",
    "                result = subprocess.run(cmd, stdout=subprocess.PIPE, stderr=subprocess.PIPE, text=True)\n",
    "                logger.info(f\"Dataset Decrypted Successfully at: {unzip_dir}{zip_file}\")\n",
    "\n",
    "        except Exception as e:\n",
    "            raise CustomeException(e,sys)\n",
    "        \n",
    "\n",
    "    def extract_dataset(self):\n",
    "        unzip_dir = self.config.unzip_dir\n",
    "        zip_file = self.config.zip_dataset\n",
    "        self.decrypt_dataset(unzip_dir, zip_file)\n",
    "\n",
    "        # Unzip File\n",
    "        try:\n",
    "            file = tarfile.open(zip_file)\n",
    "            file.extractall(unzip_dir) \n",
    "            file.close()\n",
    "            logger.info(f\"Dataset Unzipped at: {unzip_dir}\")\n",
    "        except Exception as e:\n",
    "            raise CustomeException(e,sys)\n",
    "        \n",
    "        self.rename_folder(unzip_dir)\n",
    "        "
   ]
  },
  {
   "cell_type": "code",
   "execution_count": null,
   "metadata": {},
   "outputs": [],
   "source": [
    "try:\n",
    "    config = ConfiguratioManager()\n",
    "    ingestion_config = config.data_ingestion_config()\n",
    "    data_ingestion = DataIngestion(config = ingestion_config)\n",
    "    data_ingestion.extract_dataset()\n",
    "except Exception as e:\n",
    "    raise e"
   ]
  }
 ],
 "metadata": {
  "kernelspec": {
   "display_name": "env",
   "language": "python",
   "name": "python3"
  },
  "language_info": {
   "codemirror_mode": {
    "name": "ipython",
    "version": 3
   },
   "file_extension": ".py",
   "mimetype": "text/x-python",
   "name": "python",
   "nbconvert_exporter": "python",
   "pygments_lexer": "ipython3",
   "version": "3.12.4"
  }
 },
 "nbformat": 4,
 "nbformat_minor": 2
}
